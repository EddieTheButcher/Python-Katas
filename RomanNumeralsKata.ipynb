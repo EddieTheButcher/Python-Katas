{
  "nbformat": 4,
  "nbformat_minor": 0,
  "metadata": {
    "colab": {
      "provenance": [],
      "authorship_tag": "ABX9TyN3A1SbhM4JR4R+Oy8Crhaa",
      "include_colab_link": true
    },
    "kernelspec": {
      "name": "python3",
      "display_name": "Python 3"
    },
    "language_info": {
      "name": "python"
    }
  },
  "cells": [
    {
      "cell_type": "markdown",
      "metadata": {
        "id": "view-in-github",
        "colab_type": "text"
      },
      "source": [
        "<a href=\"https://colab.research.google.com/github/EddieTheButcher/Python-Katas/blob/main/RomanNumeralsKata.ipynb\" target=\"_parent\"><img src=\"https://colab.research.google.com/assets/colab-badge.svg\" alt=\"Open In Colab\"/></a>"
      ]
    },
    {
      "cell_type": "code",
      "execution_count": 12,
      "metadata": {
        "colab": {
          "base_uri": "https://localhost:8080/"
        },
        "id": "KVRPg986o_gX",
        "outputId": "e05577c9-98d2-42b2-815f-4f624d5f0ebe"
      },
      "outputs": [
        {
          "output_type": "stream",
          "name": "stderr",
          "text": [
            "..\n",
            "----------------------------------------------------------------------\n",
            "Ran 2 tests in 0.002s\n",
            "\n",
            "OK\n"
          ]
        },
        {
          "output_type": "stream",
          "name": "stdout",
          "text": [
            "✅ Rodando testes...\n",
            "\n",
            "Digite um número entre 1 e 3999 para converter em algarismo romano: 5\n",
            "5 → V\n"
          ]
        }
      ],
      "source": [
        "def convert(n):\n",
        "    mapa = [\n",
        "        (1000, \"M\"), (900, \"CM\"), (500, \"D\"), (400, \"CD\"),\n",
        "        (100, \"C\"), (90, \"XC\"), (50, \"L\"), (40, \"XL\"),\n",
        "        (10, \"X\"), (9, \"IX\"), (5, \"V\"), (4, \"IV\"), (1, \"I\")\n",
        "    ]\n",
        "    res = \"\"\n",
        "    for val, rom in mapa:\n",
        "        res += rom * (n // val)\n",
        "        n %= val\n",
        "    return res\n",
        "\n",
        "# Testes (TDD)\n",
        "import unittest\n",
        "\n",
        "class TesteRomanos(unittest.TestCase):\n",
        "    def test_basicos(self):\n",
        "        self.assertEqual(convert(1), \"I\")\n",
        "        self.assertEqual(convert(2), \"II\")\n",
        "        self.assertEqual(convert(3), \"III\")\n",
        "        self.assertEqual(convert(4), \"IV\")\n",
        "        self.assertEqual(convert(5), \"V\")\n",
        "        self.assertEqual(convert(9), \"IX\")\n",
        "\n",
        "    def test_medios(self):\n",
        "        self.assertEqual(convert(21), \"XXI\")\n",
        "        self.assertEqual(convert(50), \"L\")\n",
        "        self.assertEqual(convert(100), \"C\")\n",
        "        self.assertEqual(convert(500), \"D\")\n",
        "        self.assertEqual(convert(1000), \"M\")\n",
        "        self.assertEqual(convert(3999), \"MMMCMXCIX\")\n",
        "\n",
        "# Rodar os testes\n",
        "print(\"✅ Rodando testes...\")\n",
        "unittest.TextTestRunner().run(unittest.defaultTestLoader.loadTestsFromTestCase(TesteRomanos))\n",
        "\n",
        "# Entrada manual do usuário\n",
        "try:\n",
        "    num = int(input(\"\\nDigite um número entre 1 e 3999 para converter em algarismo romano: \"))\n",
        "    if 1 <= num <= 3999:\n",
        "        print(f\"{num} → {convert(num)}\")\n",
        "    else:\n",
        "        print(\"❌ Número fora do intervalo permitido (1–3999).\")\n",
        "except ValueError:\n",
        "    print(\"❌ Entrada inválida. Digite um número inteiro.\")\n",
        "\n"
      ]
    }
  ]
}