{
  "nbformat": 4,
  "nbformat_minor": 0,
  "metadata": {
    "colab": {
      "provenance": [],
      "authorship_tag": "ABX9TyO8lQFIzhx0W3CZxJ7gPp2+",
      "include_colab_link": true
    },
    "kernelspec": {
      "name": "python3",
      "display_name": "Python 3"
    },
    "language_info": {
      "name": "python"
    },
    "widgets": {
      "application/vnd.jupyter.widget-state+json": {
        "a535d3e088784d7097126e10e6675621": {
          "model_module": "@jupyter-widgets/controls",
          "model_name": "IntSliderModel",
          "model_module_version": "1.5.0",
          "state": {
            "_dom_classes": [],
            "_model_module": "@jupyter-widgets/controls",
            "_model_module_version": "1.5.0",
            "_model_name": "IntSliderModel",
            "_view_count": null,
            "_view_module": "@jupyter-widgets/controls",
            "_view_module_version": "1.5.0",
            "_view_name": "IntSliderView",
            "continuous_update": true,
            "description": "Número:",
            "description_tooltip": null,
            "disabled": false,
            "layout": "IPY_MODEL_367b745425f745c99a9e86da32db9aee",
            "max": 3999,
            "min": 1,
            "orientation": "horizontal",
            "readout": true,
            "readout_format": "d",
            "step": 1,
            "style": "IPY_MODEL_888b7a187c3b4d5894045d03bcf91cae",
            "value": 1
          }
        },
        "367b745425f745c99a9e86da32db9aee": {
          "model_module": "@jupyter-widgets/base",
          "model_name": "LayoutModel",
          "model_module_version": "1.2.0",
          "state": {
            "_model_module": "@jupyter-widgets/base",
            "_model_module_version": "1.2.0",
            "_model_name": "LayoutModel",
            "_view_count": null,
            "_view_module": "@jupyter-widgets/base",
            "_view_module_version": "1.2.0",
            "_view_name": "LayoutView",
            "align_content": null,
            "align_items": null,
            "align_self": null,
            "border": null,
            "bottom": null,
            "display": null,
            "flex": null,
            "flex_flow": null,
            "grid_area": null,
            "grid_auto_columns": null,
            "grid_auto_flow": null,
            "grid_auto_rows": null,
            "grid_column": null,
            "grid_gap": null,
            "grid_row": null,
            "grid_template_areas": null,
            "grid_template_columns": null,
            "grid_template_rows": null,
            "height": null,
            "justify_content": null,
            "justify_items": null,
            "left": null,
            "margin": null,
            "max_height": null,
            "max_width": null,
            "min_height": null,
            "min_width": null,
            "object_fit": null,
            "object_position": null,
            "order": null,
            "overflow": null,
            "overflow_x": null,
            "overflow_y": null,
            "padding": null,
            "right": null,
            "top": null,
            "visibility": null,
            "width": null
          }
        },
        "888b7a187c3b4d5894045d03bcf91cae": {
          "model_module": "@jupyter-widgets/controls",
          "model_name": "SliderStyleModel",
          "model_module_version": "1.5.0",
          "state": {
            "_model_module": "@jupyter-widgets/controls",
            "_model_module_version": "1.5.0",
            "_model_name": "SliderStyleModel",
            "_view_count": null,
            "_view_module": "@jupyter-widgets/base",
            "_view_module_version": "1.2.0",
            "_view_name": "StyleView",
            "description_width": "initial",
            "handle_color": null
          }
        },
        "e313ceb5dd5c4b8b98fc48f9e7feea29": {
          "model_module": "@jupyter-widgets/controls",
          "model_name": "HTMLModel",
          "model_module_version": "1.5.0",
          "state": {
            "_dom_classes": [],
            "_model_module": "@jupyter-widgets/controls",
            "_model_module_version": "1.5.0",
            "_model_name": "HTMLModel",
            "_view_count": null,
            "_view_module": "@jupyter-widgets/controls",
            "_view_module_version": "1.5.0",
            "_view_name": "HTMLView",
            "description": "",
            "description_tooltip": null,
            "layout": "IPY_MODEL_63c4255716174102936c22bd68e344e7",
            "placeholder": "​",
            "style": "IPY_MODEL_e91fafd143c04872ae43c805bca1ec2f",
            "value": "🇮🇹 Algarismo romano: **I**"
          }
        },
        "63c4255716174102936c22bd68e344e7": {
          "model_module": "@jupyter-widgets/base",
          "model_name": "LayoutModel",
          "model_module_version": "1.2.0",
          "state": {
            "_model_module": "@jupyter-widgets/base",
            "_model_module_version": "1.2.0",
            "_model_name": "LayoutModel",
            "_view_count": null,
            "_view_module": "@jupyter-widgets/base",
            "_view_module_version": "1.2.0",
            "_view_name": "LayoutView",
            "align_content": null,
            "align_items": null,
            "align_self": null,
            "border": null,
            "bottom": null,
            "display": null,
            "flex": null,
            "flex_flow": null,
            "grid_area": null,
            "grid_auto_columns": null,
            "grid_auto_flow": null,
            "grid_auto_rows": null,
            "grid_column": null,
            "grid_gap": null,
            "grid_row": null,
            "grid_template_areas": null,
            "grid_template_columns": null,
            "grid_template_rows": null,
            "height": null,
            "justify_content": null,
            "justify_items": null,
            "left": null,
            "margin": null,
            "max_height": null,
            "max_width": null,
            "min_height": null,
            "min_width": null,
            "object_fit": null,
            "object_position": null,
            "order": null,
            "overflow": null,
            "overflow_x": null,
            "overflow_y": null,
            "padding": null,
            "right": null,
            "top": null,
            "visibility": null,
            "width": null
          }
        },
        "e91fafd143c04872ae43c805bca1ec2f": {
          "model_module": "@jupyter-widgets/controls",
          "model_name": "DescriptionStyleModel",
          "model_module_version": "1.5.0",
          "state": {
            "_model_module": "@jupyter-widgets/controls",
            "_model_module_version": "1.5.0",
            "_model_name": "DescriptionStyleModel",
            "_view_count": null,
            "_view_module": "@jupyter-widgets/base",
            "_view_module_version": "1.2.0",
            "_view_name": "StyleView",
            "description_width": ""
          }
        }
      }
    }
  },
  "cells": [
    {
      "cell_type": "markdown",
      "metadata": {
        "id": "view-in-github",
        "colab_type": "text"
      },
      "source": [
        "<a href=\"https://colab.research.google.com/github/EddieTheButcher/Python-Katas/blob/main/RomanNumeralsKata.ipynb\" target=\"_parent\"><img src=\"https://colab.research.google.com/assets/colab-badge.svg\" alt=\"Open In Colab\"/></a>"
      ]
    },
    {
      "cell_type": "code",
      "execution_count": 7,
      "metadata": {
        "colab": {
          "base_uri": "https://localhost:8080/",
          "height": 201,
          "referenced_widgets": [
            "a535d3e088784d7097126e10e6675621",
            "367b745425f745c99a9e86da32db9aee",
            "888b7a187c3b4d5894045d03bcf91cae",
            "e313ceb5dd5c4b8b98fc48f9e7feea29",
            "63c4255716174102936c22bd68e344e7",
            "e91fafd143c04872ae43c805bca1ec2f"
          ]
        },
        "id": "KVRPg986o_gX",
        "outputId": "253f3275-a5bf-479f-ebac-e1067e6cf4f0"
      },
      "outputs": [
        {
          "output_type": "stream",
          "name": "stderr",
          "text": [
            "..\n",
            "----------------------------------------------------------------------\n",
            "Ran 2 tests in 0.002s\n",
            "\n",
            "OK\n"
          ]
        },
        {
          "output_type": "stream",
          "name": "stdout",
          "text": [
            "✅ Executando testes...\n",
            "🔢 Use o controle deslizante abaixo para converter números:\n"
          ]
        },
        {
          "output_type": "display_data",
          "data": {
            "text/plain": [
              "IntSlider(value=1, description='Número:', max=3999, min=1, style=SliderStyle(description_width='initial'))"
            ],
            "application/vnd.jupyter.widget-view+json": {
              "version_major": 2,
              "version_minor": 0,
              "model_id": "a535d3e088784d7097126e10e6675621"
            }
          },
          "metadata": {}
        },
        {
          "output_type": "display_data",
          "data": {
            "text/plain": [
              "HTML(value='')"
            ],
            "application/vnd.jupyter.widget-view+json": {
              "version_major": 2,
              "version_minor": 0,
              "model_id": "e313ceb5dd5c4b8b98fc48f9e7feea29"
            }
          },
          "metadata": {}
        }
      ],
      "source": [
        "\n",
        "!pip install ipywidgets --quiet\n",
        "\n",
        "import unittest\n",
        "import ipywidgets as widgets\n",
        "from IPython.display import display\n",
        "\n",
        "# Função principal\n",
        "def convert(number):\n",
        "    val_map = [\n",
        "        (1000, \"M\"),\n",
        "        (900,  \"CM\"),\n",
        "        (500,  \"D\"),\n",
        "        (400,  \"CD\"),\n",
        "        (100,  \"C\"),\n",
        "        (90,   \"XC\"),\n",
        "        (50,   \"L\"),\n",
        "        (40,   \"XL\"),\n",
        "        (10,   \"X\"),\n",
        "        (9,    \"IX\"),\n",
        "        (5,    \"V\"),\n",
        "        (4,    \"IV\"),\n",
        "        (1,    \"I\")\n",
        "    ]\n",
        "\n",
        "    result = \"\"\n",
        "    for val, sym in val_map:\n",
        "        while number >= val:\n",
        "            result += sym\n",
        "            number -= val\n",
        "    return result\n",
        "\n",
        "# Testes TDD\n",
        "class TestRomanConverter(unittest.TestCase):\n",
        "    def test_single_digits(self):\n",
        "        self.assertEqual(convert(1), \"I\")\n",
        "        self.assertEqual(convert(2), \"II\")\n",
        "        self.assertEqual(convert(3), \"III\")\n",
        "        self.assertEqual(convert(4), \"IV\")\n",
        "        self.assertEqual(convert(5), \"V\")\n",
        "        self.assertEqual(convert(9), \"IX\")\n",
        "\n",
        "    def test_tens_and_others(self):\n",
        "        self.assertEqual(convert(21), \"XXI\")\n",
        "        self.assertEqual(convert(50), \"L\")\n",
        "        self.assertEqual(convert(100), \"C\")\n",
        "        self.assertEqual(convert(500), \"D\")\n",
        "        self.assertEqual(convert(1000), \"M\")\n",
        "        self.assertEqual(convert(3999), \"MMMCMXCIX\")  # Teste extra\n",
        "\n",
        "# Rodar os testes no Colab\n",
        "print(\"✅ Executando testes...\")\n",
        "unittest.TextTestRunner().run(unittest.defaultTestLoader.loadTestsFromTestCase(TestRomanConverter))\n",
        "\n",
        "# Interface interativa\n",
        "def on_value_change(change):\n",
        "    number = change['new']\n",
        "    if number < 1 or number > 3999:\n",
        "        output.value = \"Número fora do intervalo (1–3999)\"\n",
        "    else:\n",
        "        output.value = f\"🇮🇹 Algarismo romano: **{convert(number)}**\"\n",
        "\n",
        "input_number = widgets.IntSlider(\n",
        "    value=1,\n",
        "    min=1,\n",
        "    max=3999,\n",
        "    step=1,\n",
        "    description='Número:',\n",
        "    style={'description_width': 'initial'}\n",
        ")\n",
        "\n",
        "output = widgets.HTML()\n",
        "input_number.observe(on_value_change, names='value')\n",
        "\n",
        "print(\"🔢 Use o controle deslizante abaixo para converter números:\")\n",
        "display(input_number, output)\n",
        "\n",
        "\n"
      ]
    }
  ]
}