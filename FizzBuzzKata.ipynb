{
  "nbformat": 4,
  "nbformat_minor": 0,
  "metadata": {
    "colab": {
      "provenance": [],
      "toc_visible": true,
      "authorship_tag": "ABX9TyP3DeJl4hdxrzVIVSlt5pwF",
      "include_colab_link": true
    },
    "kernelspec": {
      "name": "python3",
      "display_name": "Python 3"
    },
    "language_info": {
      "name": "python"
    }
  },
  "cells": [
    {
      "cell_type": "markdown",
      "metadata": {
        "id": "view-in-github",
        "colab_type": "text"
      },
      "source": [
        "<a href=\"https://colab.research.google.com/github/EddieTheButcher/Python-Katas/blob/main/FizzBuzzKata.ipynb\" target=\"_parent\"><img src=\"https://colab.research.google.com/assets/colab-badge.svg\" alt=\"Open In Colab\"/></a>"
      ]
    },
    {
      "cell_type": "code",
      "execution_count": null,
      "metadata": {
        "colab": {
          "base_uri": "https://localhost:8080/"
        },
        "id": "F8p9XpBjPzAC",
        "outputId": "a74ab90e-fa5c-46ff-ce90-f3013a780278"
      },
      "outputs": [
        {
          "output_type": "stream",
          "name": "stderr",
          "text": [
            "E\n",
            "======================================================================\n",
            "ERROR: /root/ (unittest.loader._FailedTest./root/)\n",
            "----------------------------------------------------------------------\n",
            "AttributeError: module '__main__' has no attribute '/root/'\n",
            "\n",
            "----------------------------------------------------------------------\n",
            "Ran 1 test in 0.011s\n",
            "\n",
            "FAILED (errors=1)\n"
          ]
        },
        {
          "output_type": "stream",
          "name": "stdout",
          "text": [
            "\n",
            "--- FizzBuzz Output ---\n",
            "1\n",
            "2\n",
            "Fizz\n",
            "4\n",
            "Buzz\n",
            "Fizz\n",
            "7\n",
            "8\n",
            "Fizz\n",
            "Buzz\n",
            "11\n",
            "Fizz\n",
            "13\n",
            "14\n",
            "FizzBuzz\n",
            "16\n",
            "17\n",
            "Fizz\n",
            "19\n",
            "Buzz\n",
            "Fizz\n",
            "22\n",
            "23\n",
            "Fizz\n",
            "Buzz\n",
            "26\n",
            "Fizz\n",
            "28\n",
            "29\n",
            "FizzBuzz\n",
            "31\n",
            "32\n",
            "Fizz\n",
            "34\n",
            "Buzz\n",
            "Fizz\n",
            "37\n",
            "38\n",
            "Fizz\n",
            "Buzz\n",
            "41\n",
            "Fizz\n",
            "43\n",
            "44\n",
            "FizzBuzz\n",
            "46\n",
            "47\n",
            "Fizz\n",
            "49\n",
            "Buzz\n",
            "Fizz\n",
            "52\n",
            "53\n",
            "Fizz\n",
            "Buzz\n",
            "56\n",
            "Fizz\n",
            "58\n",
            "59\n",
            "FizzBuzz\n",
            "61\n",
            "62\n",
            "Fizz\n",
            "64\n",
            "Buzz\n",
            "Fizz\n",
            "67\n",
            "68\n",
            "Fizz\n",
            "Buzz\n",
            "71\n",
            "Fizz\n",
            "73\n",
            "74\n",
            "FizzBuzz\n",
            "76\n",
            "77\n",
            "Fizz\n",
            "79\n",
            "Buzz\n",
            "Fizz\n",
            "82\n",
            "83\n",
            "Fizz\n",
            "Buzz\n",
            "86\n",
            "Fizz\n",
            "88\n",
            "89\n",
            "FizzBuzz\n",
            "91\n",
            "92\n",
            "Fizz\n",
            "94\n",
            "Buzz\n",
            "Fizz\n",
            "97\n",
            "98\n",
            "Fizz\n",
            "Buzz\n"
          ]
        }
      ],
      "source": [
        "import unittest\n",
        "\n",
        "def fizzbuzz_line(n):\n",
        "    if n % 3 == 0 and n % 5 == 0:\n",
        "        return \"FizzBuzz\"\n",
        "    elif n % 3 == 0:\n",
        "        return \"Fizz\"\n",
        "    elif n % 5 == 0:\n",
        "        return \"Buzz\"\n",
        "    else:\n",
        "        return str(n)\n",
        "\n",
        "def main():\n",
        "    for i in range(1, 101):\n",
        "        print(fizzbuzz_line(i))\n",
        "\n",
        "class TestFizzBuzz(unittest.TestCase):\n",
        "    def test_fizz(self):\n",
        "        self.assertEqual(fizzbuzz_line(3), \"Fizz\")\n",
        "        self.assertEqual(fizzbuzz_line(6), \"Fizz\")\n",
        "\n",
        "    def test_buzz(self):\n",
        "        self.assertEqual(fizzbuzz_line(5), \"Buzz\")\n",
        "        self.assertEqual(fizzbuzz_line(10), \"Buzz\")\n",
        "\n",
        "    def test_fizzbuzz(self):\n",
        "        self.assertEqual(fizzbuzz_line(15), \"FizzBuzz\")\n",
        "        self.assertEqual(fizzbuzz_line(30), \"FizzBuzz\")\n",
        "\n",
        "    def test_number(self):\n",
        "        self.assertEqual(fizzbuzz_line(1), \"1\")\n",
        "        self.assertEqual(fizzbuzz_line(2), \"2\")\n",
        "\n",
        "if __name__ == \"__main__\":\n",
        "    # Rode os testes\n",
        "    unittest.main(exit=False)\n",
        "\n",
        "    print(\"\\n--- FizzBuzz Output ---\")\n",
        "    # Execute o programa\n",
        "    main()\n"
      ]
    },
    {
      "cell_type": "markdown",
      "source": [
        "# Nova seção"
      ],
      "metadata": {
        "id": "kbW0dCgCVmHO"
      }
    }
  ]
}