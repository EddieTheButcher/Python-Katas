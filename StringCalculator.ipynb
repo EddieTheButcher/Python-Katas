{
  "nbformat": 4,
  "nbformat_minor": 0,
  "metadata": {
    "colab": {
      "provenance": [],
      "authorship_tag": "ABX9TyOA9JVY59eWO8O5VqPshPWF",
      "include_colab_link": true
    },
    "kernelspec": {
      "name": "python3",
      "display_name": "Python 3"
    },
    "language_info": {
      "name": "python"
    }
  },
  "cells": [
    {
      "cell_type": "markdown",
      "metadata": {
        "id": "view-in-github",
        "colab_type": "text"
      },
      "source": [
        "<a href=\"https://colab.research.google.com/github/EddieTheButcher/Python-Katas/blob/main/StringCalculator.ipynb\" target=\"_parent\"><img src=\"https://colab.research.google.com/assets/colab-badge.svg\" alt=\"Open In Colab\"/></a>"
      ]
    },
    {
      "cell_type": "code",
      "execution_count": 11,
      "metadata": {
        "colab": {
          "base_uri": "https://localhost:8080/"
        },
        "id": "YE6eiIgaMNaD",
        "outputId": "a2c15ae1-84f5-47ee-bf47-cb417ffa423a"
      },
      "outputs": [
        {
          "output_type": "stream",
          "name": "stderr",
          "text": [
            "...........\n",
            "----------------------------------------------------------------------\n",
            "Ran 11 tests in 0.009s\n",
            "\n",
            "OK\n"
          ]
        },
        {
          "output_type": "stream",
          "name": "stdout",
          "text": [
            "Executando testes...\n",
            "\n",
            "Calculadora de String Interativa\n",
            "Digite os números (ex: 1,2,3 ou //[*][%]\\n1*2%3):\n",
            "3,4,5\n",
            "Resultado da soma: 12\n"
          ]
        }
      ],
      "source": [
        "import re\n",
        "import unittest\n",
        "\n",
        "def add(numbers: str) -> int:\n",
        "    if not numbers:\n",
        "        return 0\n",
        "\n",
        "    delimiters = [',', '\\n']\n",
        "    if numbers.startswith(\"//\"):\n",
        "        parts = numbers.split('\\n', 1)\n",
        "        header = parts[0][2:]\n",
        "        numbers = parts[1]\n",
        "        if header.startswith('['):\n",
        "            delimiters = re.findall(r'\\[(.+?)\\]', header)\n",
        "        else:\n",
        "            delimiters = [header]\n",
        "\n",
        "    pattern = '|'.join(map(re.escape, delimiters))\n",
        "    tokens = re.split(pattern, numbers)\n",
        "\n",
        "    nums = [int(n) for n in tokens if n]\n",
        "    negatives = [n for n in nums if n < 0]\n",
        "    if negatives:\n",
        "        raise ValueError(\"negatives not allowed: \" + \", \".join(map(str, negatives)))\n",
        "\n",
        "    return sum(n for n in nums if n <= 1000)\n",
        "\n",
        "# Testes\n",
        "class TestStringCalculator(unittest.TestCase):\n",
        "    def test_empty(self):\n",
        "        self.assertEqual(add(\"\"), 0)\n",
        "    def test_one_number(self):\n",
        "        self.assertEqual(add(\"5\"), 5)\n",
        "    def test_two_numbers(self):\n",
        "        self.assertEqual(add(\"1,2\"), 3)\n",
        "    def test_multiple_numbers(self):\n",
        "        self.assertEqual(add(\"1,2,3,4\"), 10)\n",
        "    def test_newline_delimiter(self):\n",
        "        self.assertEqual(add(\"1\\n2,3\"), 6)\n",
        "    def test_custom_delimiter(self):\n",
        "        self.assertEqual(add(\"//;\\n1;2\"), 3)\n",
        "    def test_negative_numbers(self):\n",
        "        with self.assertRaises(ValueError) as e:\n",
        "            add(\"1,-2,-3\")\n",
        "        self.assertEqual(str(e.exception), \"negatives not allowed: -2, -3\")\n",
        "    def test_ignore_big_numbers(self):\n",
        "        self.assertEqual(add(\"2,1001\"), 2)\n",
        "    def test_long_delimiter(self):\n",
        "        self.assertEqual(add(\"//[***]\\n1***2***3\"), 6)\n",
        "    def test_multiple_delimiters(self):\n",
        "        self.assertEqual(add(\"//[*][%]\\n1*2%3\"), 6)\n",
        "    def test_multiple_long_delimiters(self):\n",
        "        self.assertEqual(add(\"//[***][%%]\\n1***2%%3\"), 6)\n",
        "\n",
        "# Roda os testes\n",
        "print(\"Executando testes...\")\n",
        "unittest.TextTestRunner().run(unittest.defaultTestLoader.loadTestsFromTestCase(TestStringCalculator))\n",
        "\n",
        "# Interface de entrada do usuário\n",
        "print(\"\\nCalculadora de String Interativa\")\n",
        "entrada = input(\"Digite os números (ex: 1,2,3 ou //[*][%]\\\\n1*2%3):\\n\")\n",
        "\n",
        "try:\n",
        "    resultado = add(entrada)\n",
        "    print(f\"Resultado da soma: {resultado}\")\n",
        "except ValueError as ve:\n",
        "    print(f\"Erro: {ve}\")\n",
        "\n"
      ]
    }
  ]
}